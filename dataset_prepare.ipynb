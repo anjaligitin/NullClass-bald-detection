{
 "cells": [
  {
   "cell_type": "code",
   "execution_count": null,
   "metadata": {},
   "outputs": [],
   "source": [
    "%matplotlib inline\n",
    "import matplotlib.pyplot as plt\n",
    "import cv2\n",
    "import numpy as np\n",
    "from glob import glob \n",
    "from tqdm import tqdm\n",
    "from skimage import transform as trans\n",
    "\n",
    "import sys\n",
    "sys.path.append('./RetinaFace')\n",
    "from retinaface import RetinaFace\n",
    "\n",
    "import os\n",
    "os.environ[\"CUDA_DEVICE_ORDER\"]=\"PCI_BUS_ID\"   # see issue #152\n",
    "os.environ[\"CUDA_VISIBLE_DEVICES\"]=\"1\""
   ]
  },
  {
   "cell_type": "markdown",
   "metadata": {},
   "source": [
    "### Image collecting"
   ]
  },
  {
   "cell_type": "code",
   "execution_count": null,
   "metadata": {},
   "outputs": [],
   "source": [
    "images  = glob('/mnt/hdd2/David/Dataset/bald_for_gan/*.jpg')\n",
    "images += glob('/mnt/hdd2/David/Dataset/bald_for_gan/*.jpeg')\n",
    "images += glob('/mnt/hdd2/David/Dataset/bald_for_gan/*.png')\n",
    "print('Images:', len(images))"
   ]
  },
  {
   "cell_type": "code",
   "execution_count": null,
   "metadata": {},
   "outputs": [],
   "source": [
    "img = cv2.imread(images[500])\n",
    "img = cv2.cvtColor(img, cv2.COLOR_BGR2RGB)\n",
    "plt.imshow(img)\n",
    "plt.show()"
   ]
  },
  {
   "cell_type": "markdown",
   "metadata": {},
   "source": [
    "### Load detection model"
   ]
  },
  {
   "cell_type": "code",
   "execution_count": null,
   "metadata": {},
   "outputs": [],
   "source": [
    "gpuid = 0\n",
    "detector = RetinaFace('./RetinaFace/retinaface-R50/R50', 0, gpuid, 'net3')"
   ]
  },
  {
   "cell_type": "code",
   "execution_count": null,
   "metadata": {},
   "outputs": [],
   "source": [
    "minsize = 100 # minimum size of face\n",
    "thresh = 0.8\n",
    "scales = [1.0]\n",
    "factor = 0.709 # scale factor\n",
    "image_size = [256,256]\n",
    "src = np.array([\n",
    "  [30.2946, 51.6963],\n",
    "  [65.5318, 51.5014],\n",
    "  [48.0252, 71.7366],\n",
    "  [33.5493, 92.3655],\n",
    "  [62.7299, 92.2041] ], dtype=np.float32 )\n",
    "\n",
    "src[:,0] += 8.0\n",
    "src[:,0] += 15.0\n",
    "src[:,1] += 30.0\n",
    "src /= 112\n",
    "src *= 200"
   ]
  },
  {
   "cell_type": "code",
   "execution_count": null,
   "metadata": {},
   "outputs": [],
   "source": [
    "def align_face(img):\n",
    "    bounding_boxes, points = detector.detect(img, thresh, scales=scales, do_flip=True)\n",
    "\n",
    "    result_faces = []\n",
    "    \n",
    "    if bounding_boxes.shape[0]>0:\n",
    "        det = bounding_boxes[:,0:4]\n",
    "        for i in range(det.shape[0]):\n",
    "            _det = det[i]\n",
    "            dst = points[i]\n",
    "            \n",
    "            \n",
    "            tform = trans.SimilarityTransform()\n",
    "            tform.estimate(dst, src)\n",
    "            M = tform.params[0:2,:]\n",
    "            warped = cv2.warpAffine(img,M,(image_size[1],image_size[0]), borderValue = 0.0)\n",
    "            \n",
    "            result_faces.append(warped)\n",
    "            \n",
    "    return result_faces "
   ]
  },
  {
   "cell_type": "markdown",
   "metadata": {},
   "source": [
    "### Image processing"
   ]
  },
  {
   "cell_type": "code",
   "execution_count": null,
   "metadata": {
    "scrolled": false
   },
   "outputs": [],
   "source": [
    "num = 0\n",
    "for filename in tqdm(images):\n",
    "    try:\n",
    "        img = cv2.imread(filename)\n",
    "        face = align_face(img)[0]\n",
    "        dst_filename = '/mnt/ssd2/Datasets/bald_for_GAN_test/'\n",
    "        dst_filename += str(num) + '.jpg'\n",
    "        num += 1\n",
    "        cv2.imwrite(dst_filename, face)\n",
    "    except:\n",
    "        pass"
   ]
  },
  {
   "cell_type": "code",
   "execution_count": null,
   "metadata": {},
   "outputs": [],
   "source": []
  }
 ],
 "metadata": {
  "kernelspec": {
   "display_name": "Python 3",
   "language": "python",
   "name": "python3"
  },
  "language_info": {
   "codemirror_mode": {
    "name": "ipython",
    "version": 3
   },
   "file_extension": ".py",
   "mimetype": "text/x-python",
   "name": "python",
   "nbconvert_exporter": "python",
   "pygments_lexer": "ipython3",
   "version": "3.5.2"
  }
 },
 "nbformat": 4,
 "nbformat_minor": 4
}
